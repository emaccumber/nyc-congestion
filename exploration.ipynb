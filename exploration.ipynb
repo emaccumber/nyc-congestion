{
 "cells": [
  {
   "cell_type": "code",
   "execution_count": 30,
   "metadata": {},
   "outputs": [],
   "source": [
    "import polars as pl\n",
    "import pandas as pd \n",
    "\n",
    "import altair as alt\n",
    "\n",
    "import requests\n",
    "import pyarrow as pa"
   ]
  },
  {
   "cell_type": "code",
   "execution_count": null,
   "metadata": {},
   "outputs": [
    {
     "ename": "KeyboardInterrupt",
     "evalue": "",
     "output_type": "error",
     "traceback": [
      "\u001b[31m---------------------------------------------------------------------------\u001b[39m",
      "\u001b[31mKeyboardInterrupt\u001b[39m                         Traceback (most recent call last)",
      "\u001b[36mCell\u001b[39m\u001b[36m \u001b[39m\u001b[32mIn[17]\u001b[39m\u001b[32m, line 2\u001b[39m\n\u001b[32m      1\u001b[39m ezpass_odata_url = \u001b[33m'\u001b[39m\u001b[33mhttps://data.cityofnewyork.us/api/odata/v4/6a2s-2t65\u001b[39m\u001b[33m'\u001b[39m\n\u001b[32m----> \u001b[39m\u001b[32m2\u001b[39m r = \u001b[43mrequests\u001b[49m\u001b[43m.\u001b[49m\u001b[43mget\u001b[49m\u001b[43m(\u001b[49m\u001b[43mezpass_odata_url\u001b[49m\u001b[43m)\u001b[49m\n",
      "\u001b[36mFile \u001b[39m\u001b[32m~/Desktop/repos.nosync/nyc-congestion/.venv/lib/python3.13/site-packages/requests/api.py:73\u001b[39m, in \u001b[36mget\u001b[39m\u001b[34m(url, params, **kwargs)\u001b[39m\n\u001b[32m     62\u001b[39m \u001b[38;5;28;01mdef\u001b[39;00m\u001b[38;5;250m \u001b[39m\u001b[34mget\u001b[39m(url, params=\u001b[38;5;28;01mNone\u001b[39;00m, **kwargs):\n\u001b[32m     63\u001b[39m \u001b[38;5;250m    \u001b[39m\u001b[33mr\u001b[39m\u001b[33;03m\"\"\"Sends a GET request.\u001b[39;00m\n\u001b[32m     64\u001b[39m \n\u001b[32m     65\u001b[39m \u001b[33;03m    :param url: URL for the new :class:`Request` object.\u001b[39;00m\n\u001b[32m   (...)\u001b[39m\u001b[32m     70\u001b[39m \u001b[33;03m    :rtype: requests.Response\u001b[39;00m\n\u001b[32m     71\u001b[39m \u001b[33;03m    \"\"\"\u001b[39;00m\n\u001b[32m---> \u001b[39m\u001b[32m73\u001b[39m     \u001b[38;5;28;01mreturn\u001b[39;00m \u001b[43mrequest\u001b[49m\u001b[43m(\u001b[49m\u001b[33;43m\"\u001b[39;49m\u001b[33;43mget\u001b[39;49m\u001b[33;43m\"\u001b[39;49m\u001b[43m,\u001b[49m\u001b[43m \u001b[49m\u001b[43murl\u001b[49m\u001b[43m,\u001b[49m\u001b[43m \u001b[49m\u001b[43mparams\u001b[49m\u001b[43m=\u001b[49m\u001b[43mparams\u001b[49m\u001b[43m,\u001b[49m\u001b[43m \u001b[49m\u001b[43m*\u001b[49m\u001b[43m*\u001b[49m\u001b[43mkwargs\u001b[49m\u001b[43m)\u001b[49m\n",
      "\u001b[36mFile \u001b[39m\u001b[32m~/Desktop/repos.nosync/nyc-congestion/.venv/lib/python3.13/site-packages/requests/api.py:59\u001b[39m, in \u001b[36mrequest\u001b[39m\u001b[34m(method, url, **kwargs)\u001b[39m\n\u001b[32m     55\u001b[39m \u001b[38;5;66;03m# By using the 'with' statement we are sure the session is closed, thus we\u001b[39;00m\n\u001b[32m     56\u001b[39m \u001b[38;5;66;03m# avoid leaving sockets open which can trigger a ResourceWarning in some\u001b[39;00m\n\u001b[32m     57\u001b[39m \u001b[38;5;66;03m# cases, and look like a memory leak in others.\u001b[39;00m\n\u001b[32m     58\u001b[39m \u001b[38;5;28;01mwith\u001b[39;00m sessions.Session() \u001b[38;5;28;01mas\u001b[39;00m session:\n\u001b[32m---> \u001b[39m\u001b[32m59\u001b[39m     \u001b[38;5;28;01mreturn\u001b[39;00m \u001b[43msession\u001b[49m\u001b[43m.\u001b[49m\u001b[43mrequest\u001b[49m\u001b[43m(\u001b[49m\u001b[43mmethod\u001b[49m\u001b[43m=\u001b[49m\u001b[43mmethod\u001b[49m\u001b[43m,\u001b[49m\u001b[43m \u001b[49m\u001b[43murl\u001b[49m\u001b[43m=\u001b[49m\u001b[43murl\u001b[49m\u001b[43m,\u001b[49m\u001b[43m \u001b[49m\u001b[43m*\u001b[49m\u001b[43m*\u001b[49m\u001b[43mkwargs\u001b[49m\u001b[43m)\u001b[49m\n",
      "\u001b[36mFile \u001b[39m\u001b[32m~/Desktop/repos.nosync/nyc-congestion/.venv/lib/python3.13/site-packages/requests/sessions.py:589\u001b[39m, in \u001b[36mSession.request\u001b[39m\u001b[34m(self, method, url, params, data, headers, cookies, files, auth, timeout, allow_redirects, proxies, hooks, stream, verify, cert, json)\u001b[39m\n\u001b[32m    584\u001b[39m send_kwargs = {\n\u001b[32m    585\u001b[39m     \u001b[33m\"\u001b[39m\u001b[33mtimeout\u001b[39m\u001b[33m\"\u001b[39m: timeout,\n\u001b[32m    586\u001b[39m     \u001b[33m\"\u001b[39m\u001b[33mallow_redirects\u001b[39m\u001b[33m\"\u001b[39m: allow_redirects,\n\u001b[32m    587\u001b[39m }\n\u001b[32m    588\u001b[39m send_kwargs.update(settings)\n\u001b[32m--> \u001b[39m\u001b[32m589\u001b[39m resp = \u001b[38;5;28;43mself\u001b[39;49m\u001b[43m.\u001b[49m\u001b[43msend\u001b[49m\u001b[43m(\u001b[49m\u001b[43mprep\u001b[49m\u001b[43m,\u001b[49m\u001b[43m \u001b[49m\u001b[43m*\u001b[49m\u001b[43m*\u001b[49m\u001b[43msend_kwargs\u001b[49m\u001b[43m)\u001b[49m\n\u001b[32m    591\u001b[39m \u001b[38;5;28;01mreturn\u001b[39;00m resp\n",
      "\u001b[36mFile \u001b[39m\u001b[32m~/Desktop/repos.nosync/nyc-congestion/.venv/lib/python3.13/site-packages/requests/sessions.py:703\u001b[39m, in \u001b[36mSession.send\u001b[39m\u001b[34m(self, request, **kwargs)\u001b[39m\n\u001b[32m    700\u001b[39m start = preferred_clock()\n\u001b[32m    702\u001b[39m \u001b[38;5;66;03m# Send the request\u001b[39;00m\n\u001b[32m--> \u001b[39m\u001b[32m703\u001b[39m r = \u001b[43madapter\u001b[49m\u001b[43m.\u001b[49m\u001b[43msend\u001b[49m\u001b[43m(\u001b[49m\u001b[43mrequest\u001b[49m\u001b[43m,\u001b[49m\u001b[43m \u001b[49m\u001b[43m*\u001b[49m\u001b[43m*\u001b[49m\u001b[43mkwargs\u001b[49m\u001b[43m)\u001b[49m\n\u001b[32m    705\u001b[39m \u001b[38;5;66;03m# Total elapsed time of the request (approximately)\u001b[39;00m\n\u001b[32m    706\u001b[39m elapsed = preferred_clock() - start\n",
      "\u001b[36mFile \u001b[39m\u001b[32m~/Desktop/repos.nosync/nyc-congestion/.venv/lib/python3.13/site-packages/requests/adapters.py:667\u001b[39m, in \u001b[36mHTTPAdapter.send\u001b[39m\u001b[34m(self, request, stream, timeout, verify, cert, proxies)\u001b[39m\n\u001b[32m    664\u001b[39m     timeout = TimeoutSauce(connect=timeout, read=timeout)\n\u001b[32m    666\u001b[39m \u001b[38;5;28;01mtry\u001b[39;00m:\n\u001b[32m--> \u001b[39m\u001b[32m667\u001b[39m     resp = \u001b[43mconn\u001b[49m\u001b[43m.\u001b[49m\u001b[43murlopen\u001b[49m\u001b[43m(\u001b[49m\n\u001b[32m    668\u001b[39m \u001b[43m        \u001b[49m\u001b[43mmethod\u001b[49m\u001b[43m=\u001b[49m\u001b[43mrequest\u001b[49m\u001b[43m.\u001b[49m\u001b[43mmethod\u001b[49m\u001b[43m,\u001b[49m\n\u001b[32m    669\u001b[39m \u001b[43m        \u001b[49m\u001b[43murl\u001b[49m\u001b[43m=\u001b[49m\u001b[43murl\u001b[49m\u001b[43m,\u001b[49m\n\u001b[32m    670\u001b[39m \u001b[43m        \u001b[49m\u001b[43mbody\u001b[49m\u001b[43m=\u001b[49m\u001b[43mrequest\u001b[49m\u001b[43m.\u001b[49m\u001b[43mbody\u001b[49m\u001b[43m,\u001b[49m\n\u001b[32m    671\u001b[39m \u001b[43m        \u001b[49m\u001b[43mheaders\u001b[49m\u001b[43m=\u001b[49m\u001b[43mrequest\u001b[49m\u001b[43m.\u001b[49m\u001b[43mheaders\u001b[49m\u001b[43m,\u001b[49m\n\u001b[32m    672\u001b[39m \u001b[43m        \u001b[49m\u001b[43mredirect\u001b[49m\u001b[43m=\u001b[49m\u001b[38;5;28;43;01mFalse\u001b[39;49;00m\u001b[43m,\u001b[49m\n\u001b[32m    673\u001b[39m \u001b[43m        \u001b[49m\u001b[43massert_same_host\u001b[49m\u001b[43m=\u001b[49m\u001b[38;5;28;43;01mFalse\u001b[39;49;00m\u001b[43m,\u001b[49m\n\u001b[32m    674\u001b[39m \u001b[43m        \u001b[49m\u001b[43mpreload_content\u001b[49m\u001b[43m=\u001b[49m\u001b[38;5;28;43;01mFalse\u001b[39;49;00m\u001b[43m,\u001b[49m\n\u001b[32m    675\u001b[39m \u001b[43m        \u001b[49m\u001b[43mdecode_content\u001b[49m\u001b[43m=\u001b[49m\u001b[38;5;28;43;01mFalse\u001b[39;49;00m\u001b[43m,\u001b[49m\n\u001b[32m    676\u001b[39m \u001b[43m        \u001b[49m\u001b[43mretries\u001b[49m\u001b[43m=\u001b[49m\u001b[38;5;28;43mself\u001b[39;49m\u001b[43m.\u001b[49m\u001b[43mmax_retries\u001b[49m\u001b[43m,\u001b[49m\n\u001b[32m    677\u001b[39m \u001b[43m        \u001b[49m\u001b[43mtimeout\u001b[49m\u001b[43m=\u001b[49m\u001b[43mtimeout\u001b[49m\u001b[43m,\u001b[49m\n\u001b[32m    678\u001b[39m \u001b[43m        \u001b[49m\u001b[43mchunked\u001b[49m\u001b[43m=\u001b[49m\u001b[43mchunked\u001b[49m\u001b[43m,\u001b[49m\n\u001b[32m    679\u001b[39m \u001b[43m    \u001b[49m\u001b[43m)\u001b[49m\n\u001b[32m    681\u001b[39m \u001b[38;5;28;01mexcept\u001b[39;00m (ProtocolError, \u001b[38;5;167;01mOSError\u001b[39;00m) \u001b[38;5;28;01mas\u001b[39;00m err:\n\u001b[32m    682\u001b[39m     \u001b[38;5;28;01mraise\u001b[39;00m \u001b[38;5;167;01mConnectionError\u001b[39;00m(err, request=request)\n",
      "\u001b[36mFile \u001b[39m\u001b[32m~/Desktop/repos.nosync/nyc-congestion/.venv/lib/python3.13/site-packages/urllib3/connectionpool.py:787\u001b[39m, in \u001b[36mHTTPConnectionPool.urlopen\u001b[39m\u001b[34m(self, method, url, body, headers, retries, redirect, assert_same_host, timeout, pool_timeout, release_conn, chunked, body_pos, preload_content, decode_content, **response_kw)\u001b[39m\n\u001b[32m    784\u001b[39m response_conn = conn \u001b[38;5;28;01mif\u001b[39;00m \u001b[38;5;129;01mnot\u001b[39;00m release_conn \u001b[38;5;28;01melse\u001b[39;00m \u001b[38;5;28;01mNone\u001b[39;00m\n\u001b[32m    786\u001b[39m \u001b[38;5;66;03m# Make the request on the HTTPConnection object\u001b[39;00m\n\u001b[32m--> \u001b[39m\u001b[32m787\u001b[39m response = \u001b[38;5;28;43mself\u001b[39;49m\u001b[43m.\u001b[49m\u001b[43m_make_request\u001b[49m\u001b[43m(\u001b[49m\n\u001b[32m    788\u001b[39m \u001b[43m    \u001b[49m\u001b[43mconn\u001b[49m\u001b[43m,\u001b[49m\n\u001b[32m    789\u001b[39m \u001b[43m    \u001b[49m\u001b[43mmethod\u001b[49m\u001b[43m,\u001b[49m\n\u001b[32m    790\u001b[39m \u001b[43m    \u001b[49m\u001b[43murl\u001b[49m\u001b[43m,\u001b[49m\n\u001b[32m    791\u001b[39m \u001b[43m    \u001b[49m\u001b[43mtimeout\u001b[49m\u001b[43m=\u001b[49m\u001b[43mtimeout_obj\u001b[49m\u001b[43m,\u001b[49m\n\u001b[32m    792\u001b[39m \u001b[43m    \u001b[49m\u001b[43mbody\u001b[49m\u001b[43m=\u001b[49m\u001b[43mbody\u001b[49m\u001b[43m,\u001b[49m\n\u001b[32m    793\u001b[39m \u001b[43m    \u001b[49m\u001b[43mheaders\u001b[49m\u001b[43m=\u001b[49m\u001b[43mheaders\u001b[49m\u001b[43m,\u001b[49m\n\u001b[32m    794\u001b[39m \u001b[43m    \u001b[49m\u001b[43mchunked\u001b[49m\u001b[43m=\u001b[49m\u001b[43mchunked\u001b[49m\u001b[43m,\u001b[49m\n\u001b[32m    795\u001b[39m \u001b[43m    \u001b[49m\u001b[43mretries\u001b[49m\u001b[43m=\u001b[49m\u001b[43mretries\u001b[49m\u001b[43m,\u001b[49m\n\u001b[32m    796\u001b[39m \u001b[43m    \u001b[49m\u001b[43mresponse_conn\u001b[49m\u001b[43m=\u001b[49m\u001b[43mresponse_conn\u001b[49m\u001b[43m,\u001b[49m\n\u001b[32m    797\u001b[39m \u001b[43m    \u001b[49m\u001b[43mpreload_content\u001b[49m\u001b[43m=\u001b[49m\u001b[43mpreload_content\u001b[49m\u001b[43m,\u001b[49m\n\u001b[32m    798\u001b[39m \u001b[43m    \u001b[49m\u001b[43mdecode_content\u001b[49m\u001b[43m=\u001b[49m\u001b[43mdecode_content\u001b[49m\u001b[43m,\u001b[49m\n\u001b[32m    799\u001b[39m \u001b[43m    \u001b[49m\u001b[43m*\u001b[49m\u001b[43m*\u001b[49m\u001b[43mresponse_kw\u001b[49m\u001b[43m,\u001b[49m\n\u001b[32m    800\u001b[39m \u001b[43m\u001b[49m\u001b[43m)\u001b[49m\n\u001b[32m    802\u001b[39m \u001b[38;5;66;03m# Everything went great!\u001b[39;00m\n\u001b[32m    803\u001b[39m clean_exit = \u001b[38;5;28;01mTrue\u001b[39;00m\n",
      "\u001b[36mFile \u001b[39m\u001b[32m~/Desktop/repos.nosync/nyc-congestion/.venv/lib/python3.13/site-packages/urllib3/connectionpool.py:534\u001b[39m, in \u001b[36mHTTPConnectionPool._make_request\u001b[39m\u001b[34m(self, conn, method, url, body, headers, retries, timeout, chunked, response_conn, preload_content, decode_content, enforce_content_length)\u001b[39m\n\u001b[32m    532\u001b[39m \u001b[38;5;66;03m# Receive the response from the server\u001b[39;00m\n\u001b[32m    533\u001b[39m \u001b[38;5;28;01mtry\u001b[39;00m:\n\u001b[32m--> \u001b[39m\u001b[32m534\u001b[39m     response = \u001b[43mconn\u001b[49m\u001b[43m.\u001b[49m\u001b[43mgetresponse\u001b[49m\u001b[43m(\u001b[49m\u001b[43m)\u001b[49m\n\u001b[32m    535\u001b[39m \u001b[38;5;28;01mexcept\u001b[39;00m (BaseSSLError, \u001b[38;5;167;01mOSError\u001b[39;00m) \u001b[38;5;28;01mas\u001b[39;00m e:\n\u001b[32m    536\u001b[39m     \u001b[38;5;28mself\u001b[39m._raise_timeout(err=e, url=url, timeout_value=read_timeout)\n",
      "\u001b[36mFile \u001b[39m\u001b[32m~/Desktop/repos.nosync/nyc-congestion/.venv/lib/python3.13/site-packages/urllib3/connection.py:516\u001b[39m, in \u001b[36mHTTPConnection.getresponse\u001b[39m\u001b[34m(self)\u001b[39m\n\u001b[32m    513\u001b[39m _shutdown = \u001b[38;5;28mgetattr\u001b[39m(\u001b[38;5;28mself\u001b[39m.sock, \u001b[33m\"\u001b[39m\u001b[33mshutdown\u001b[39m\u001b[33m\"\u001b[39m, \u001b[38;5;28;01mNone\u001b[39;00m)\n\u001b[32m    515\u001b[39m \u001b[38;5;66;03m# Get the response from http.client.HTTPConnection\u001b[39;00m\n\u001b[32m--> \u001b[39m\u001b[32m516\u001b[39m httplib_response = \u001b[38;5;28;43msuper\u001b[39;49m\u001b[43m(\u001b[49m\u001b[43m)\u001b[49m\u001b[43m.\u001b[49m\u001b[43mgetresponse\u001b[49m\u001b[43m(\u001b[49m\u001b[43m)\u001b[49m\n\u001b[32m    518\u001b[39m \u001b[38;5;28;01mtry\u001b[39;00m:\n\u001b[32m    519\u001b[39m     assert_header_parsing(httplib_response.msg)\n",
      "\u001b[36mFile \u001b[39m\u001b[32m~/.local/share/uv/python/cpython-3.13.1-macos-aarch64-none/lib/python3.13/http/client.py:1428\u001b[39m, in \u001b[36mHTTPConnection.getresponse\u001b[39m\u001b[34m(self)\u001b[39m\n\u001b[32m   1426\u001b[39m \u001b[38;5;28;01mtry\u001b[39;00m:\n\u001b[32m   1427\u001b[39m     \u001b[38;5;28;01mtry\u001b[39;00m:\n\u001b[32m-> \u001b[39m\u001b[32m1428\u001b[39m         \u001b[43mresponse\u001b[49m\u001b[43m.\u001b[49m\u001b[43mbegin\u001b[49m\u001b[43m(\u001b[49m\u001b[43m)\u001b[49m\n\u001b[32m   1429\u001b[39m     \u001b[38;5;28;01mexcept\u001b[39;00m \u001b[38;5;167;01mConnectionError\u001b[39;00m:\n\u001b[32m   1430\u001b[39m         \u001b[38;5;28mself\u001b[39m.close()\n",
      "\u001b[36mFile \u001b[39m\u001b[32m~/.local/share/uv/python/cpython-3.13.1-macos-aarch64-none/lib/python3.13/http/client.py:331\u001b[39m, in \u001b[36mHTTPResponse.begin\u001b[39m\u001b[34m(self)\u001b[39m\n\u001b[32m    329\u001b[39m \u001b[38;5;66;03m# read until we get a non-100 response\u001b[39;00m\n\u001b[32m    330\u001b[39m \u001b[38;5;28;01mwhile\u001b[39;00m \u001b[38;5;28;01mTrue\u001b[39;00m:\n\u001b[32m--> \u001b[39m\u001b[32m331\u001b[39m     version, status, reason = \u001b[38;5;28;43mself\u001b[39;49m\u001b[43m.\u001b[49m\u001b[43m_read_status\u001b[49m\u001b[43m(\u001b[49m\u001b[43m)\u001b[49m\n\u001b[32m    332\u001b[39m     \u001b[38;5;28;01mif\u001b[39;00m status != CONTINUE:\n\u001b[32m    333\u001b[39m         \u001b[38;5;28;01mbreak\u001b[39;00m\n",
      "\u001b[36mFile \u001b[39m\u001b[32m~/.local/share/uv/python/cpython-3.13.1-macos-aarch64-none/lib/python3.13/http/client.py:292\u001b[39m, in \u001b[36mHTTPResponse._read_status\u001b[39m\u001b[34m(self)\u001b[39m\n\u001b[32m    291\u001b[39m \u001b[38;5;28;01mdef\u001b[39;00m\u001b[38;5;250m \u001b[39m\u001b[34m_read_status\u001b[39m(\u001b[38;5;28mself\u001b[39m):\n\u001b[32m--> \u001b[39m\u001b[32m292\u001b[39m     line = \u001b[38;5;28mstr\u001b[39m(\u001b[38;5;28;43mself\u001b[39;49m\u001b[43m.\u001b[49m\u001b[43mfp\u001b[49m\u001b[43m.\u001b[49m\u001b[43mreadline\u001b[49m\u001b[43m(\u001b[49m\u001b[43m_MAXLINE\u001b[49m\u001b[43m \u001b[49m\u001b[43m+\u001b[49m\u001b[43m \u001b[49m\u001b[32;43m1\u001b[39;49m\u001b[43m)\u001b[49m, \u001b[33m\"\u001b[39m\u001b[33miso-8859-1\u001b[39m\u001b[33m\"\u001b[39m)\n\u001b[32m    293\u001b[39m     \u001b[38;5;28;01mif\u001b[39;00m \u001b[38;5;28mlen\u001b[39m(line) > _MAXLINE:\n\u001b[32m    294\u001b[39m         \u001b[38;5;28;01mraise\u001b[39;00m LineTooLong(\u001b[33m\"\u001b[39m\u001b[33mstatus line\u001b[39m\u001b[33m\"\u001b[39m)\n",
      "\u001b[36mFile \u001b[39m\u001b[32m~/.local/share/uv/python/cpython-3.13.1-macos-aarch64-none/lib/python3.13/socket.py:719\u001b[39m, in \u001b[36mSocketIO.readinto\u001b[39m\u001b[34m(self, b)\u001b[39m\n\u001b[32m    717\u001b[39m     \u001b[38;5;28;01mraise\u001b[39;00m \u001b[38;5;167;01mOSError\u001b[39;00m(\u001b[33m\"\u001b[39m\u001b[33mcannot read from timed out object\u001b[39m\u001b[33m\"\u001b[39m)\n\u001b[32m    718\u001b[39m \u001b[38;5;28;01mtry\u001b[39;00m:\n\u001b[32m--> \u001b[39m\u001b[32m719\u001b[39m     \u001b[38;5;28;01mreturn\u001b[39;00m \u001b[38;5;28;43mself\u001b[39;49m\u001b[43m.\u001b[49m\u001b[43m_sock\u001b[49m\u001b[43m.\u001b[49m\u001b[43mrecv_into\u001b[49m\u001b[43m(\u001b[49m\u001b[43mb\u001b[49m\u001b[43m)\u001b[49m\n\u001b[32m    720\u001b[39m \u001b[38;5;28;01mexcept\u001b[39;00m timeout:\n\u001b[32m    721\u001b[39m     \u001b[38;5;28mself\u001b[39m._timeout_occurred = \u001b[38;5;28;01mTrue\u001b[39;00m\n",
      "\u001b[36mFile \u001b[39m\u001b[32m~/.local/share/uv/python/cpython-3.13.1-macos-aarch64-none/lib/python3.13/ssl.py:1304\u001b[39m, in \u001b[36mSSLSocket.recv_into\u001b[39m\u001b[34m(self, buffer, nbytes, flags)\u001b[39m\n\u001b[32m   1300\u001b[39m     \u001b[38;5;28;01mif\u001b[39;00m flags != \u001b[32m0\u001b[39m:\n\u001b[32m   1301\u001b[39m         \u001b[38;5;28;01mraise\u001b[39;00m \u001b[38;5;167;01mValueError\u001b[39;00m(\n\u001b[32m   1302\u001b[39m           \u001b[33m\"\u001b[39m\u001b[33mnon-zero flags not allowed in calls to recv_into() on \u001b[39m\u001b[38;5;132;01m%s\u001b[39;00m\u001b[33m\"\u001b[39m %\n\u001b[32m   1303\u001b[39m           \u001b[38;5;28mself\u001b[39m.\u001b[34m__class__\u001b[39m)\n\u001b[32m-> \u001b[39m\u001b[32m1304\u001b[39m     \u001b[38;5;28;01mreturn\u001b[39;00m \u001b[38;5;28;43mself\u001b[39;49m\u001b[43m.\u001b[49m\u001b[43mread\u001b[49m\u001b[43m(\u001b[49m\u001b[43mnbytes\u001b[49m\u001b[43m,\u001b[49m\u001b[43m \u001b[49m\u001b[43mbuffer\u001b[49m\u001b[43m)\u001b[49m\n\u001b[32m   1305\u001b[39m \u001b[38;5;28;01melse\u001b[39;00m:\n\u001b[32m   1306\u001b[39m     \u001b[38;5;28;01mreturn\u001b[39;00m \u001b[38;5;28msuper\u001b[39m().recv_into(buffer, nbytes, flags)\n",
      "\u001b[36mFile \u001b[39m\u001b[32m~/.local/share/uv/python/cpython-3.13.1-macos-aarch64-none/lib/python3.13/ssl.py:1138\u001b[39m, in \u001b[36mSSLSocket.read\u001b[39m\u001b[34m(self, len, buffer)\u001b[39m\n\u001b[32m   1136\u001b[39m \u001b[38;5;28;01mtry\u001b[39;00m:\n\u001b[32m   1137\u001b[39m     \u001b[38;5;28;01mif\u001b[39;00m buffer \u001b[38;5;129;01mis\u001b[39;00m \u001b[38;5;129;01mnot\u001b[39;00m \u001b[38;5;28;01mNone\u001b[39;00m:\n\u001b[32m-> \u001b[39m\u001b[32m1138\u001b[39m         \u001b[38;5;28;01mreturn\u001b[39;00m \u001b[38;5;28;43mself\u001b[39;49m\u001b[43m.\u001b[49m\u001b[43m_sslobj\u001b[49m\u001b[43m.\u001b[49m\u001b[43mread\u001b[49m\u001b[43m(\u001b[49m\u001b[38;5;28;43mlen\u001b[39;49m\u001b[43m,\u001b[49m\u001b[43m \u001b[49m\u001b[43mbuffer\u001b[49m\u001b[43m)\u001b[49m\n\u001b[32m   1139\u001b[39m     \u001b[38;5;28;01melse\u001b[39;00m:\n\u001b[32m   1140\u001b[39m         \u001b[38;5;28;01mreturn\u001b[39;00m \u001b[38;5;28mself\u001b[39m._sslobj.read(\u001b[38;5;28mlen\u001b[39m)\n",
      "\u001b[31mKeyboardInterrupt\u001b[39m: "
     ]
    }
   ],
   "source": [
    "# ezpass_odata_url = 'https://data.cityofnewyork.us/api/odata/v4/6a2s-2t65'\n",
    "# r = requests.get(ezpass_odata_url)\n",
    "# r_json = r.json()"
   ]
  },
  {
   "cell_type": "code",
   "execution_count": 22,
   "metadata": {},
   "outputs": [],
   "source": [
    "collisions = pl.read_csv('nyc_data/Motor_Vehicle_Collisions_-_Crashes_20250319.csv')\n",
    "congestion = pl.read_csv('nyc_data/MTA_Congestion_Relief_Zone_Vehicle_Entries__Beginning_2025_20250319.csv')\n",
    "mta_daily_ridership = pl.read_csv('nyc_data/MTA_Daily_Ridership_Data__2020_-_2025_20250319.csv')\n",
    "mta_hourly_ridership = pl.read_csv('nyc_data/MTA_Subway_Hourly_Ridership__2020-2024_20250318.csv')\n",
    "arrests = pl.read_csv('nyc_data/NYPD_Arrest_Data__Year_to_Date__20250319.csv')\n",
    "ramp_complaints = pl.read_csv('nyc_data/Pedestrian_Ramp_Complaints_20250319.csv')\n",
    "ferry_ridership = pl.read_csv('nyc_data/Staten_Island_Ferry_Ridership_Counts_20250319.csv')"
   ]
  },
  {
   "cell_type": "code",
   "execution_count": 25,
   "metadata": {},
   "outputs": [
    {
     "data": {
      "text/html": [
       "<div><style>\n",
       ".dataframe > thead > tr,\n",
       ".dataframe > tbody > tr {\n",
       "  text-align: right;\n",
       "  white-space: pre-wrap;\n",
       "}\n",
       "</style>\n",
       "<small>shape: (260_503, 19)</small><table border=\"1\" class=\"dataframe\"><thead><tr><th>ARREST_KEY</th><th>ARREST_DATE</th><th>PD_CD</th><th>PD_DESC</th><th>KY_CD</th><th>OFNS_DESC</th><th>LAW_CODE</th><th>LAW_CAT_CD</th><th>ARREST_BORO</th><th>ARREST_PRECINCT</th><th>JURISDICTION_CODE</th><th>AGE_GROUP</th><th>PERP_SEX</th><th>PERP_RACE</th><th>X_COORD_CD</th><th>Y_COORD_CD</th><th>Latitude</th><th>Longitude</th><th>New Georeferenced Column</th></tr><tr><td>i64</td><td>str</td><td>i64</td><td>str</td><td>i64</td><td>str</td><td>str</td><td>str</td><td>str</td><td>i64</td><td>i64</td><td>str</td><td>str</td><td>str</td><td>i64</td><td>i64</td><td>f64</td><td>f64</td><td>str</td></tr></thead><tbody><tr><td>281369711</td><td>&quot;01/30/2024&quot;</td><td>177</td><td>&quot;SEXUAL ABUSE&quot;</td><td>116</td><td>&quot;SEX CRIMES&quot;</td><td>&quot;PL 1306501&quot;</td><td>&quot;F&quot;</td><td>&quot;M&quot;</td><td>25</td><td>0</td><td>&quot;25-44&quot;</td><td>&quot;M&quot;</td><td>&quot;BLACK&quot;</td><td>1000558</td><td>231080</td><td>40.80093</td><td>-73.941098</td><td>&quot;POINT (-73.9410982410066 40.80…</td></tr><tr><td>284561406</td><td>&quot;03/30/2024&quot;</td><td>105</td><td>&quot;STRANGULATION 1ST&quot;</td><td>106</td><td>&quot;FELONY ASSAULT&quot;</td><td>&quot;PL 1211200&quot;</td><td>&quot;F&quot;</td><td>&quot;B&quot;</td><td>44</td><td>0</td><td>&quot;25-44&quot;</td><td>&quot;M&quot;</td><td>&quot;BLACK&quot;</td><td>1004297</td><td>242846</td><td>40.833209</td><td>-73.927554</td><td>&quot;POINT (-73.927554 40.833209)&quot;</td></tr><tr><td>284896016</td><td>&quot;04/06/2024&quot;</td><td>105</td><td>&quot;STRANGULATION 1ST&quot;</td><td>106</td><td>&quot;FELONY ASSAULT&quot;</td><td>&quot;PL 1211200&quot;</td><td>&quot;F&quot;</td><td>&quot;M&quot;</td><td>19</td><td>0</td><td>&quot;25-44&quot;</td><td>&quot;M&quot;</td><td>&quot;BLACK&quot;</td><td>997304</td><td>222853</td><td>40.778348</td><td>-73.952863</td><td>&quot;POINT (-73.952863 40.778348)&quot;</td></tr><tr><td>285569016</td><td>&quot;04/18/2024&quot;</td><td>105</td><td>&quot;STRANGULATION 1ST&quot;</td><td>106</td><td>&quot;FELONY ASSAULT&quot;</td><td>&quot;PL 1211200&quot;</td><td>&quot;F&quot;</td><td>&quot;K&quot;</td><td>69</td><td>0</td><td>&quot;25-44&quot;</td><td>&quot;M&quot;</td><td>&quot;BLACK&quot;</td><td>1010576</td><td>175628</td><td>40.648698</td><td>-73.905128</td><td>&quot;POINT (-73.905128 40.648698)&quot;</td></tr><tr><td>287308954</td><td>&quot;05/22/2024&quot;</td><td>464</td><td>&quot;JOSTLING&quot;</td><td>230</td><td>&quot;JOSTLING&quot;</td><td>&quot;PL 1652501&quot;</td><td>&quot;M&quot;</td><td>&quot;M&quot;</td><td>18</td><td>0</td><td>&quot;18-24&quot;</td><td>&quot;M&quot;</td><td>&quot;WHITE&quot;</td><td>991530</td><td>217373</td><td>40.763313</td><td>-73.973717</td><td>&quot;POINT (-73.973717 40.763313)&quot;</td></tr><tr><td>&hellip;</td><td>&hellip;</td><td>&hellip;</td><td>&hellip;</td><td>&hellip;</td><td>&hellip;</td><td>&hellip;</td><td>&hellip;</td><td>&hellip;</td><td>&hellip;</td><td>&hellip;</td><td>&hellip;</td><td>&hellip;</td><td>&hellip;</td><td>&hellip;</td><td>&hellip;</td><td>&hellip;</td><td>&hellip;</td><td>&hellip;</td></tr><tr><td>298287970</td><td>&quot;12/20/2024&quot;</td><td>339</td><td>&quot;LARCENY,PETIT FROM OPEN AREAS,&quot;</td><td>341</td><td>&quot;PETIT LARCENY&quot;</td><td>&quot;PL 1552500&quot;</td><td>&quot;M&quot;</td><td>&quot;K&quot;</td><td>90</td><td>0</td><td>&quot;25-44&quot;</td><td>&quot;M&quot;</td><td>&quot;WHITE HISPANIC&quot;</td><td>998044</td><td>198865</td><td>40.712514</td><td>-73.950245</td><td>&quot;POINT (-73.950245 40.712514)&quot;</td></tr><tr><td>298401282</td><td>&quot;12/23/2024&quot;</td><td>439</td><td>&quot;LARCENY,GRAND FROM OPEN AREAS,…</td><td>109</td><td>&quot;GRAND LARCENY&quot;</td><td>&quot;PL 1553001&quot;</td><td>&quot;F&quot;</td><td>&quot;M&quot;</td><td>24</td><td>0</td><td>&quot;45-64&quot;</td><td>&quot;M&quot;</td><td>&quot;WHITE HISPANIC&quot;</td><td>991558</td><td>226956</td><td>40.789615</td><td>-73.973609</td><td>&quot;POINT (-73.9736085726657 40.78…</td></tr><tr><td>298622307</td><td>&quot;12/30/2024&quot;</td><td>922</td><td>&quot;TRAFFIC,UNCLASSIFIED MISDEMEAN&quot;</td><td>348</td><td>&quot;VEHICLE AND TRAFFIC LAWS&quot;</td><td>&quot;VTL05110MU&quot;</td><td>&quot;M&quot;</td><td>&quot;K&quot;</td><td>67</td><td>0</td><td>&quot;25-44&quot;</td><td>&quot;M&quot;</td><td>&quot;BLACK&quot;</td><td>1003422</td><td>178505</td><td>40.656611</td><td>-73.930902</td><td>&quot;POINT (-73.93090206546258 40.6…</td></tr><tr><td>298335810</td><td>&quot;12/21/2024&quot;</td><td>269</td><td>&quot;MISCHIEF,CRIMINAL,&nbsp;&nbsp;&nbsp;&nbsp;UNCL 2ND&quot;</td><td>121</td><td>&quot;CRIMINAL MISCHIEF &amp; RELATED OF&quot;</td><td>&quot;PL 1450501&quot;</td><td>&quot;F&quot;</td><td>&quot;Q&quot;</td><td>115</td><td>0</td><td>&quot;25-44&quot;</td><td>&quot;M&quot;</td><td>&quot;WHITE HISPANIC&quot;</td><td>1020035</td><td>213111</td><td>40.751545</td><td>-73.870843</td><td>&quot;POINT (-73.87084320922126 40.7…</td></tr><tr><td>298548871</td><td>&quot;12/27/2024&quot;</td><td>681</td><td>&quot;CHILD, ENDANGERING WELFARE&quot;</td><td>233</td><td>&quot;SEX CRIMES&quot;</td><td>&quot;PL 2601001&quot;</td><td>&quot;M&quot;</td><td>&quot;B&quot;</td><td>47</td><td>0</td><td>&quot;25-44&quot;</td><td>&quot;M&quot;</td><td>&quot;BLACK&quot;</td><td>1026480</td><td>262584</td><td>40.887314</td><td>-73.847272</td><td>&quot;POINT (-73.8472717577564 40.88…</td></tr></tbody></table></div>"
      ],
      "text/plain": [
       "shape: (260_503, 19)\n",
       "┌────────────┬────────────┬───────┬────────────┬───┬───────────┬───────────┬───────────┬───────────┐\n",
       "│ ARREST_KEY ┆ ARREST_DAT ┆ PD_CD ┆ PD_DESC    ┆ … ┆ Y_COORD_C ┆ Latitude  ┆ Longitude ┆ New Geore │\n",
       "│ ---        ┆ E          ┆ ---   ┆ ---        ┆   ┆ D         ┆ ---       ┆ ---       ┆ ferenced  │\n",
       "│ i64        ┆ ---        ┆ i64   ┆ str        ┆   ┆ ---       ┆ f64       ┆ f64       ┆ Column    │\n",
       "│            ┆ str        ┆       ┆            ┆   ┆ i64       ┆           ┆           ┆ ---       │\n",
       "│            ┆            ┆       ┆            ┆   ┆           ┆           ┆           ┆ str       │\n",
       "╞════════════╪════════════╪═══════╪════════════╪═══╪═══════════╪═══════════╪═══════════╪═══════════╡\n",
       "│ 281369711  ┆ 01/30/2024 ┆ 177   ┆ SEXUAL     ┆ … ┆ 231080    ┆ 40.80093  ┆ -73.94109 ┆ POINT (-7 │\n",
       "│            ┆            ┆       ┆ ABUSE      ┆   ┆           ┆           ┆ 8         ┆ 3.9410982 │\n",
       "│            ┆            ┆       ┆            ┆   ┆           ┆           ┆           ┆ 410066    │\n",
       "│            ┆            ┆       ┆            ┆   ┆           ┆           ┆           ┆ 40.80…    │\n",
       "│ 284561406  ┆ 03/30/2024 ┆ 105   ┆ STRANGULAT ┆ … ┆ 242846    ┆ 40.833209 ┆ -73.92755 ┆ POINT (-7 │\n",
       "│            ┆            ┆       ┆ ION 1ST    ┆   ┆           ┆           ┆ 4         ┆ 3.927554  │\n",
       "│            ┆            ┆       ┆            ┆   ┆           ┆           ┆           ┆ 40.833209 │\n",
       "│            ┆            ┆       ┆            ┆   ┆           ┆           ┆           ┆ )         │\n",
       "│ 284896016  ┆ 04/06/2024 ┆ 105   ┆ STRANGULAT ┆ … ┆ 222853    ┆ 40.778348 ┆ -73.95286 ┆ POINT (-7 │\n",
       "│            ┆            ┆       ┆ ION 1ST    ┆   ┆           ┆           ┆ 3         ┆ 3.952863  │\n",
       "│            ┆            ┆       ┆            ┆   ┆           ┆           ┆           ┆ 40.778348 │\n",
       "│            ┆            ┆       ┆            ┆   ┆           ┆           ┆           ┆ )         │\n",
       "│ 285569016  ┆ 04/18/2024 ┆ 105   ┆ STRANGULAT ┆ … ┆ 175628    ┆ 40.648698 ┆ -73.90512 ┆ POINT (-7 │\n",
       "│            ┆            ┆       ┆ ION 1ST    ┆   ┆           ┆           ┆ 8         ┆ 3.905128  │\n",
       "│            ┆            ┆       ┆            ┆   ┆           ┆           ┆           ┆ 40.648698 │\n",
       "│            ┆            ┆       ┆            ┆   ┆           ┆           ┆           ┆ )         │\n",
       "│ 287308954  ┆ 05/22/2024 ┆ 464   ┆ JOSTLING   ┆ … ┆ 217373    ┆ 40.763313 ┆ -73.97371 ┆ POINT (-7 │\n",
       "│            ┆            ┆       ┆            ┆   ┆           ┆           ┆ 7         ┆ 3.973717  │\n",
       "│            ┆            ┆       ┆            ┆   ┆           ┆           ┆           ┆ 40.763313 │\n",
       "│            ┆            ┆       ┆            ┆   ┆           ┆           ┆           ┆ )         │\n",
       "│ …          ┆ …          ┆ …     ┆ …          ┆ … ┆ …         ┆ …         ┆ …         ┆ …         │\n",
       "│ 298287970  ┆ 12/20/2024 ┆ 339   ┆ LARCENY,PE ┆ … ┆ 198865    ┆ 40.712514 ┆ -73.95024 ┆ POINT (-7 │\n",
       "│            ┆            ┆       ┆ TIT FROM   ┆   ┆           ┆           ┆ 5         ┆ 3.950245  │\n",
       "│            ┆            ┆       ┆ OPEN       ┆   ┆           ┆           ┆           ┆ 40.712514 │\n",
       "│            ┆            ┆       ┆ AREAS,     ┆   ┆           ┆           ┆           ┆ )         │\n",
       "│ 298401282  ┆ 12/23/2024 ┆ 439   ┆ LARCENY,GR ┆ … ┆ 226956    ┆ 40.789615 ┆ -73.97360 ┆ POINT (-7 │\n",
       "│            ┆            ┆       ┆ AND FROM   ┆   ┆           ┆           ┆ 9         ┆ 3.9736085 │\n",
       "│            ┆            ┆       ┆ OPEN       ┆   ┆           ┆           ┆           ┆ 726657    │\n",
       "│            ┆            ┆       ┆ AREAS,…    ┆   ┆           ┆           ┆           ┆ 40.78…    │\n",
       "│ 298622307  ┆ 12/30/2024 ┆ 922   ┆ TRAFFIC,UN ┆ … ┆ 178505    ┆ 40.656611 ┆ -73.93090 ┆ POINT (-7 │\n",
       "│            ┆            ┆       ┆ CLASSIFIED ┆   ┆           ┆           ┆ 2         ┆ 3.9309020 │\n",
       "│            ┆            ┆       ┆ MISDEMEAN  ┆   ┆           ┆           ┆           ┆ 6546258   │\n",
       "│            ┆            ┆       ┆            ┆   ┆           ┆           ┆           ┆ 40.6…     │\n",
       "│ 298335810  ┆ 12/21/2024 ┆ 269   ┆ MISCHIEF,C ┆ … ┆ 213111    ┆ 40.751545 ┆ -73.87084 ┆ POINT (-7 │\n",
       "│            ┆            ┆       ┆ RIMINAL,   ┆   ┆           ┆           ┆ 3         ┆ 3.8708432 │\n",
       "│            ┆            ┆       ┆ UNCL 2ND   ┆   ┆           ┆           ┆           ┆ 0922126   │\n",
       "│            ┆            ┆       ┆            ┆   ┆           ┆           ┆           ┆ 40.7…     │\n",
       "│ 298548871  ┆ 12/27/2024 ┆ 681   ┆ CHILD, END ┆ … ┆ 262584    ┆ 40.887314 ┆ -73.84727 ┆ POINT (-7 │\n",
       "│            ┆            ┆       ┆ ANGERING   ┆   ┆           ┆           ┆ 2         ┆ 3.8472717 │\n",
       "│            ┆            ┆       ┆ WELFARE    ┆   ┆           ┆           ┆           ┆ 577564    │\n",
       "│            ┆            ┆       ┆            ┆   ┆           ┆           ┆           ┆ 40.88…    │\n",
       "└────────────┴────────────┴───────┴────────────┴───┴───────────┴───────────┴───────────┴───────────┘"
      ]
     },
     "execution_count": 25,
     "metadata": {},
     "output_type": "execute_result"
    }
   ],
   "source": [
    "arrests "
   ]
  },
  {
   "cell_type": "markdown",
   "metadata": {},
   "source": [
    "# Questions \n",
    "\n",
    "## Crime \n",
    "- How has crime changed?\n",
    "- Where has crime changed the most?\n",
    "\n",
    "## Traffic \n",
    "- How has traffic changed?\n",
    "    - Have people changed the time that they drive because of the tax? (look at when fee goes down at off-peaks)\n",
    "- Is there a change in the types of cars?\n",
    "\n",
    "## Public Transit \n",
    "- Are people taking public transit more?\n",
    "- Where are we seeing the biggest change in station entries (my assumption is areas with more car ownership)\n",
    "\n"
   ]
  },
  {
   "cell_type": "code",
   "execution_count": null,
   "metadata": {},
   "outputs": [
    {
     "data": {
      "text/plain": [
       "Schema([('ARREST_KEY', Int64),\n",
       "        ('ARREST_DATE', String),\n",
       "        ('PD_CD', Int64),\n",
       "        ('PD_DESC', String),\n",
       "        ('KY_CD', Int64),\n",
       "        ('OFNS_DESC', String),\n",
       "        ('LAW_CODE', String),\n",
       "        ('LAW_CAT_CD', String),\n",
       "        ('ARREST_BORO', String),\n",
       "        ('ARREST_PRECINCT', Int64),\n",
       "        ('JURISDICTION_CODE', Int64),\n",
       "        ('AGE_GROUP', String),\n",
       "        ('PERP_SEX', String),\n",
       "        ('PERP_RACE', String),\n",
       "        ('X_COORD_CD', Int64),\n",
       "        ('Y_COORD_CD', Int64),\n",
       "        ('Latitude', Float64),\n",
       "        ('Longitude', Float64),\n",
       "        ('New Georeferenced Column', String)])"
      ]
     },
     "execution_count": 28,
     "metadata": {},
     "output_type": "execute_result"
    }
   ],
   "source": [
    "arrests.schema\n",
    "'''\n",
    "Schema([('ARREST_KEY', Int64),\n",
    "        ('ARREST_DATE', String),\n",
    "        ('PD_CD', Int64),\n",
    "        ('PD_DESC', String),\n",
    "        ('KY_CD', Int64),\n",
    "        ('OFNS_DESC', String),\n",
    "        ('LAW_CODE', String),\n",
    "        ('LAW_CAT_CD', String),\n",
    "        ('ARREST_BORO', String),\n",
    "        ('ARREST_PRECINCT', Int64),\n",
    "        ('JURISDICTION_CODE', Int64),\n",
    "        ('AGE_GROUP', String),\n",
    "        ('PERP_SEX', String),\n",
    "        ('PERP_RACE', String),\n",
    "        ('X_COORD_CD', Int64),\n",
    "        ('Y_COORD_CD', Int64),\n",
    "        ('Latitude', Float64),\n",
    "        ('Longitude', Float64),\n",
    "        ('New Georeferenced Column', String)])\n",
    "'''\n",
    "\n"
   ]
  },
  {
   "cell_type": "code",
   "execution_count": null,
   "metadata": {},
   "outputs": [],
   "source": []
  }
 ],
 "metadata": {
  "kernelspec": {
   "display_name": ".venv",
   "language": "python",
   "name": "python3"
  },
  "language_info": {
   "codemirror_mode": {
    "name": "ipython",
    "version": 3
   },
   "file_extension": ".py",
   "mimetype": "text/x-python",
   "name": "python",
   "nbconvert_exporter": "python",
   "pygments_lexer": "ipython3",
   "version": "3.13.1"
  }
 },
 "nbformat": 4,
 "nbformat_minor": 2
}
